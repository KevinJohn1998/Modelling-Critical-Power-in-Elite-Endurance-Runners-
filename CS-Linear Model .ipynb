{
 "cells": [
  {
   "cell_type": "code",
   "execution_count": 1,
   "metadata": {},
   "outputs": [],
   "source": [
    "import numpy as np \n",
    "import pandas as pd"
   ]
  },
  {
   "cell_type": "code",
   "execution_count": 2,
   "metadata": {},
   "outputs": [],
   "source": [
    "d = pd.read_html('https://www.worldathletics.org/records/all-time-toplists/middle-long/1500-metres/outdoor/men/senior?regionType=world&page=1&bestResultsOnly=true&firstDay=1900-01-01&lastDay=2021-05-10')"
   ]
  },
  {
   "cell_type": "code",
   "execution_count": 3,
   "metadata": {},
   "outputs": [],
   "source": [
    "df = d[0]"
   ]
  },
  {
   "cell_type": "code",
   "execution_count": 4,
   "metadata": {},
   "outputs": [
    {
     "data": {
      "text/html": [
       "<div>\n",
       "<style scoped>\n",
       "    .dataframe tbody tr th:only-of-type {\n",
       "        vertical-align: middle;\n",
       "    }\n",
       "\n",
       "    .dataframe tbody tr th {\n",
       "        vertical-align: top;\n",
       "    }\n",
       "\n",
       "    .dataframe thead th {\n",
       "        text-align: right;\n",
       "    }\n",
       "</style>\n",
       "<table border=\"1\" class=\"dataframe\">\n",
       "  <thead>\n",
       "    <tr style=\"text-align: right;\">\n",
       "      <th></th>\n",
       "      <th>Rank</th>\n",
       "      <th>Mark</th>\n",
       "      <th>Competitor</th>\n",
       "      <th>DOB</th>\n",
       "      <th>Nat</th>\n",
       "      <th>Pos</th>\n",
       "      <th>Unnamed: 6</th>\n",
       "      <th>Venue</th>\n",
       "      <th>Date</th>\n",
       "      <th>Results Score</th>\n",
       "    </tr>\n",
       "  </thead>\n",
       "  <tbody>\n",
       "    <tr>\n",
       "      <th>0</th>\n",
       "      <td>1</td>\n",
       "      <td>3:26.00</td>\n",
       "      <td>Hicham EL GUERROUJ</td>\n",
       "      <td>14 SEP 1974</td>\n",
       "      <td>MAR</td>\n",
       "      <td>1</td>\n",
       "      <td>NaN</td>\n",
       "      <td>Stadio Olimpico, Roma (ITA)</td>\n",
       "      <td>14 JUL 1998</td>\n",
       "      <td>1302</td>\n",
       "    </tr>\n",
       "    <tr>\n",
       "      <th>1</th>\n",
       "      <td>2</td>\n",
       "      <td>3:26.34</td>\n",
       "      <td>Bernard LAGAT</td>\n",
       "      <td>12 DEC 1974</td>\n",
       "      <td>KEN</td>\n",
       "      <td>2</td>\n",
       "      <td>NaN</td>\n",
       "      <td>Bruxelles (BEL)</td>\n",
       "      <td>24 AUG 2001</td>\n",
       "      <td>1297</td>\n",
       "    </tr>\n",
       "    <tr>\n",
       "      <th>2</th>\n",
       "      <td>3</td>\n",
       "      <td>3:26.69</td>\n",
       "      <td>Asbel KIPROP</td>\n",
       "      <td>30 JUN 1989</td>\n",
       "      <td>KEN</td>\n",
       "      <td>1</td>\n",
       "      <td>NaN</td>\n",
       "      <td>Stade Louis II, Monaco (MON)</td>\n",
       "      <td>17 JUL 2015</td>\n",
       "      <td>1292</td>\n",
       "    </tr>\n",
       "    <tr>\n",
       "      <th>3</th>\n",
       "      <td>4</td>\n",
       "      <td>3:27.37</td>\n",
       "      <td>Noureddine MORCELI</td>\n",
       "      <td>28 FEB 1970</td>\n",
       "      <td>ALG</td>\n",
       "      <td>1</td>\n",
       "      <td>NaN</td>\n",
       "      <td>Nice (FRA)</td>\n",
       "      <td>12 JUL 1995</td>\n",
       "      <td>1282</td>\n",
       "    </tr>\n",
       "    <tr>\n",
       "      <th>4</th>\n",
       "      <td>5</td>\n",
       "      <td>3:27.64</td>\n",
       "      <td>Silas KIPLAGAT</td>\n",
       "      <td>20 AUG 1989</td>\n",
       "      <td>KEN</td>\n",
       "      <td>1</td>\n",
       "      <td>NaN</td>\n",
       "      <td>Stade Louis II, Monaco (MON)</td>\n",
       "      <td>18 JUL 2014</td>\n",
       "      <td>1279</td>\n",
       "    </tr>\n",
       "  </tbody>\n",
       "</table>\n",
       "</div>"
      ],
      "text/plain": [
       "   Rank     Mark          Competitor          DOB  Nat Pos  Unnamed: 6  \\\n",
       "0     1  3:26.00  Hicham EL GUERROUJ  14 SEP 1974  MAR   1         NaN   \n",
       "1     2  3:26.34       Bernard LAGAT  12 DEC 1974  KEN   2         NaN   \n",
       "2     3  3:26.69        Asbel KIPROP  30 JUN 1989  KEN   1         NaN   \n",
       "3     4  3:27.37  Noureddine MORCELI  28 FEB 1970  ALG   1         NaN   \n",
       "4     5  3:27.64      Silas KIPLAGAT  20 AUG 1989  KEN   1         NaN   \n",
       "\n",
       "                          Venue         Date  Results Score  \n",
       "0   Stadio Olimpico, Roma (ITA)  14 JUL 1998           1302  \n",
       "1               Bruxelles (BEL)  24 AUG 2001           1297  \n",
       "2  Stade Louis II, Monaco (MON)  17 JUL 2015           1292  \n",
       "3                    Nice (FRA)  12 JUL 1995           1282  \n",
       "4  Stade Louis II, Monaco (MON)  18 JUL 2014           1279  "
      ]
     },
     "execution_count": 4,
     "metadata": {},
     "output_type": "execute_result"
    }
   ],
   "source": [
    "df.head()"
   ]
  },
  {
   "cell_type": "code",
   "execution_count": 5,
   "metadata": {},
   "outputs": [],
   "source": [
    "base_url='https://www.worldathletics.org/records/all-time-toplists/middle-long/1500-metres/outdoor/men/senior?regionType=world&page={}&bestResultsOnly=true&firstDay=1900-01-01&lastDay=2021-05-10'"
   ]
  },
  {
   "cell_type": "code",
   "execution_count": 7,
   "metadata": {},
   "outputs": [
    {
     "name": "stdout",
     "output_type": "stream",
     "text": [
      "0\n",
      "1\n",
      "2\n",
      "3\n",
      "4\n"
     ]
    }
   ],
   "source": [
    "#we can use this as counter for page \n",
    "for n in range(5):\n",
    "    print(n)"
   ]
  },
  {
   "cell_type": "code",
   "execution_count": 8,
   "metadata": {},
   "outputs": [
    {
     "data": {
      "text/plain": [
       "'https://www.worldathletics.org/records/all-time-toplists/middle-long/1500-metres/outdoor/men/senior?regionType=world&page=2&bestResultsOnly=true&firstDay=1900-01-01&lastDay=2021-05-10'"
      ]
     },
     "execution_count": 8,
     "metadata": {},
     "output_type": "execute_result"
    }
   ],
   "source": [
    "#the for loop can be used like this \n",
    "base_url.format(2)"
   ]
  },
  {
   "cell_type": "code",
   "execution_count": 9,
   "metadata": {},
   "outputs": [],
   "source": [
    "#lets try for 1500 m \n",
    "main_list = []\n",
    "for n in range(44):\n",
    "    d = pd.read_html(base_url.format(n))\n",
    "    df = d[0]\n",
    "    main_list.append(df)\n",
    "    \n",
    "big_data = pd.concat(main_list)"
   ]
  },
  {
   "cell_type": "code",
   "execution_count": 10,
   "metadata": {},
   "outputs": [
    {
     "data": {
      "text/html": [
       "<div>\n",
       "<style scoped>\n",
       "    .dataframe tbody tr th:only-of-type {\n",
       "        vertical-align: middle;\n",
       "    }\n",
       "\n",
       "    .dataframe tbody tr th {\n",
       "        vertical-align: top;\n",
       "    }\n",
       "\n",
       "    .dataframe thead th {\n",
       "        text-align: right;\n",
       "    }\n",
       "</style>\n",
       "<table border=\"1\" class=\"dataframe\">\n",
       "  <thead>\n",
       "    <tr style=\"text-align: right;\">\n",
       "      <th></th>\n",
       "      <th>Rank</th>\n",
       "      <th>Mark</th>\n",
       "      <th>Competitor</th>\n",
       "      <th>DOB</th>\n",
       "      <th>Nat</th>\n",
       "      <th>Pos</th>\n",
       "      <th>Unnamed: 6</th>\n",
       "      <th>Venue</th>\n",
       "      <th>Date</th>\n",
       "      <th>Results Score</th>\n",
       "    </tr>\n",
       "  </thead>\n",
       "  <tbody>\n",
       "    <tr>\n",
       "      <th>0</th>\n",
       "      <td>1</td>\n",
       "      <td>3:26.00</td>\n",
       "      <td>Hicham EL GUERROUJ</td>\n",
       "      <td>14 SEP 1974</td>\n",
       "      <td>MAR</td>\n",
       "      <td>1</td>\n",
       "      <td>NaN</td>\n",
       "      <td>Stadio Olimpico, Roma (ITA)</td>\n",
       "      <td>14 JUL 1998</td>\n",
       "      <td>1302</td>\n",
       "    </tr>\n",
       "    <tr>\n",
       "      <th>1</th>\n",
       "      <td>2</td>\n",
       "      <td>3:26.34</td>\n",
       "      <td>Bernard LAGAT</td>\n",
       "      <td>12 DEC 1974</td>\n",
       "      <td>KEN</td>\n",
       "      <td>2</td>\n",
       "      <td>NaN</td>\n",
       "      <td>Bruxelles (BEL)</td>\n",
       "      <td>24 AUG 2001</td>\n",
       "      <td>1297</td>\n",
       "    </tr>\n",
       "    <tr>\n",
       "      <th>2</th>\n",
       "      <td>3</td>\n",
       "      <td>3:26.69</td>\n",
       "      <td>Asbel KIPROP</td>\n",
       "      <td>30 JUN 1989</td>\n",
       "      <td>KEN</td>\n",
       "      <td>1</td>\n",
       "      <td>NaN</td>\n",
       "      <td>Stade Louis II, Monaco (MON)</td>\n",
       "      <td>17 JUL 2015</td>\n",
       "      <td>1292</td>\n",
       "    </tr>\n",
       "    <tr>\n",
       "      <th>3</th>\n",
       "      <td>4</td>\n",
       "      <td>3:27.37</td>\n",
       "      <td>Noureddine MORCELI</td>\n",
       "      <td>28 FEB 1970</td>\n",
       "      <td>ALG</td>\n",
       "      <td>1</td>\n",
       "      <td>NaN</td>\n",
       "      <td>Nice (FRA)</td>\n",
       "      <td>12 JUL 1995</td>\n",
       "      <td>1282</td>\n",
       "    </tr>\n",
       "    <tr>\n",
       "      <th>4</th>\n",
       "      <td>5</td>\n",
       "      <td>3:27.64</td>\n",
       "      <td>Silas KIPLAGAT</td>\n",
       "      <td>20 AUG 1989</td>\n",
       "      <td>KEN</td>\n",
       "      <td>1</td>\n",
       "      <td>NaN</td>\n",
       "      <td>Stade Louis II, Monaco (MON)</td>\n",
       "      <td>18 JUL 2014</td>\n",
       "      <td>1279</td>\n",
       "    </tr>\n",
       "    <tr>\n",
       "      <th>...</th>\n",
       "      <td>...</td>\n",
       "      <td>...</td>\n",
       "      <td>...</td>\n",
       "      <td>...</td>\n",
       "      <td>...</td>\n",
       "      <td>...</td>\n",
       "      <td>...</td>\n",
       "      <td>...</td>\n",
       "      <td>...</td>\n",
       "      <td>...</td>\n",
       "    </tr>\n",
       "    <tr>\n",
       "      <th>60</th>\n",
       "      <td>4252</td>\n",
       "      <td>3:43.0h</td>\n",
       "      <td>Philemon CHEMORWA</td>\n",
       "      <td>NaN</td>\n",
       "      <td>KEN</td>\n",
       "      <td>1</td>\n",
       "      <td>NaN</td>\n",
       "      <td>Nyeri (KEN)</td>\n",
       "      <td>03 APR 2004</td>\n",
       "      <td>1067</td>\n",
       "    </tr>\n",
       "    <tr>\n",
       "      <th>61</th>\n",
       "      <td>4252</td>\n",
       "      <td>3:43.0h</td>\n",
       "      <td>Peter KOSKEI</td>\n",
       "      <td>NaN</td>\n",
       "      <td>KEN</td>\n",
       "      <td>1</td>\n",
       "      <td>NaN</td>\n",
       "      <td>Nairobi (KEN)</td>\n",
       "      <td>04 JUN 2004</td>\n",
       "      <td>1067</td>\n",
       "    </tr>\n",
       "    <tr>\n",
       "      <th>62</th>\n",
       "      <td>4262</td>\n",
       "      <td>3:43.00</td>\n",
       "      <td>Ben TICKNER</td>\n",
       "      <td>13 JUL 1981</td>\n",
       "      <td>GBR</td>\n",
       "      <td>9</td>\n",
       "      <td>NaN</td>\n",
       "      <td>Watford (GBR)</td>\n",
       "      <td>10 JUN 2006</td>\n",
       "      <td>1067</td>\n",
       "    </tr>\n",
       "    <tr>\n",
       "      <th>63</th>\n",
       "      <td>4253</td>\n",
       "      <td>3:43.0h</td>\n",
       "      <td>Stephen KOECH</td>\n",
       "      <td>16 DEC 1976</td>\n",
       "      <td>KEN</td>\n",
       "      <td>1</td>\n",
       "      <td>NaN</td>\n",
       "      <td>Kakamega (KEN)</td>\n",
       "      <td>24 JUN 2006</td>\n",
       "      <td>1067</td>\n",
       "    </tr>\n",
       "    <tr>\n",
       "      <th>64</th>\n",
       "      <td>4253</td>\n",
       "      <td>3:43.0h</td>\n",
       "      <td>Joseph EBUYA</td>\n",
       "      <td>20 JUN 1987</td>\n",
       "      <td>KEN</td>\n",
       "      <td>6</td>\n",
       "      <td>NaN</td>\n",
       "      <td>Kakamega (KEN)</td>\n",
       "      <td>21 APR 2007</td>\n",
       "      <td>1067</td>\n",
       "    </tr>\n",
       "  </tbody>\n",
       "</table>\n",
       "<p>4365 rows × 10 columns</p>\n",
       "</div>"
      ],
      "text/plain": [
       "    Rank     Mark          Competitor          DOB  Nat Pos  Unnamed: 6  \\\n",
       "0      1  3:26.00  Hicham EL GUERROUJ  14 SEP 1974  MAR   1         NaN   \n",
       "1      2  3:26.34       Bernard LAGAT  12 DEC 1974  KEN   2         NaN   \n",
       "2      3  3:26.69        Asbel KIPROP  30 JUN 1989  KEN   1         NaN   \n",
       "3      4  3:27.37  Noureddine MORCELI  28 FEB 1970  ALG   1         NaN   \n",
       "4      5  3:27.64      Silas KIPLAGAT  20 AUG 1989  KEN   1         NaN   \n",
       "..   ...      ...                 ...          ...  ...  ..         ...   \n",
       "60  4252  3:43.0h   Philemon CHEMORWA          NaN  KEN   1         NaN   \n",
       "61  4252  3:43.0h        Peter KOSKEI          NaN  KEN   1         NaN   \n",
       "62  4262  3:43.00         Ben TICKNER  13 JUL 1981  GBR   9         NaN   \n",
       "63  4253  3:43.0h       Stephen KOECH  16 DEC 1976  KEN   1         NaN   \n",
       "64  4253  3:43.0h        Joseph EBUYA  20 JUN 1987  KEN   6         NaN   \n",
       "\n",
       "                           Venue         Date  Results Score  \n",
       "0    Stadio Olimpico, Roma (ITA)  14 JUL 1998           1302  \n",
       "1                Bruxelles (BEL)  24 AUG 2001           1297  \n",
       "2   Stade Louis II, Monaco (MON)  17 JUL 2015           1292  \n",
       "3                     Nice (FRA)  12 JUL 1995           1282  \n",
       "4   Stade Louis II, Monaco (MON)  18 JUL 2014           1279  \n",
       "..                           ...          ...            ...  \n",
       "60                   Nyeri (KEN)  03 APR 2004           1067  \n",
       "61                 Nairobi (KEN)  04 JUN 2004           1067  \n",
       "62                 Watford (GBR)  10 JUN 2006           1067  \n",
       "63                Kakamega (KEN)  24 JUN 2006           1067  \n",
       "64                Kakamega (KEN)  21 APR 2007           1067  \n",
       "\n",
       "[4365 rows x 10 columns]"
      ]
     },
     "execution_count": 10,
     "metadata": {},
     "output_type": "execute_result"
    }
   ],
   "source": [
    "big_data.head(4365)"
   ]
  },
  {
   "cell_type": "code",
   "execution_count": 11,
   "metadata": {},
   "outputs": [],
   "source": [
    "big_data.reset_index(drop=True,inplace=True)"
   ]
  },
  {
   "cell_type": "code",
   "execution_count": 12,
   "metadata": {},
   "outputs": [],
   "source": [
    "import re "
   ]
  },
  {
   "cell_type": "code",
   "execution_count": 15,
   "metadata": {},
   "outputs": [
    {
     "data": {
      "text/plain": [
       "'3:26.00'"
      ]
     },
     "execution_count": 15,
     "metadata": {},
     "output_type": "execute_result"
    }
   ],
   "source": [
    "big_data['Mark'][0]\n"
   ]
  },
  {
   "cell_type": "markdown",
   "metadata": {},
   "source": [
    "A way to convert the time stamp data which is a string into seconds https://stackoverflow.com/questions/50308629/python-pandas-column-convert-minutes-to-second"
   ]
  },
  {
   "cell_type": "code",
   "execution_count": 16,
   "metadata": {},
   "outputs": [
    {
     "data": {
      "text/plain": [
       "['3', '26', '00']"
      ]
     },
     "execution_count": 16,
     "metadata": {},
     "output_type": "execute_result"
    }
   ],
   "source": [
    "#This is how we can split the time data to access each string \n",
    "#we have to change this string into int to get time in seconds \n",
    "re.split(pattern=r'[:\\.]',string=big_data['Mark'][0])\n",
    "#here 3 is min, 26 is sec and 00 is milisec "
   ]
  },
  {
   "cell_type": "code",
   "execution_count": 17,
   "metadata": {},
   "outputs": [
    {
     "ename": "TypeError",
     "evalue": "expected string or bytes-like object",
     "output_type": "error",
     "traceback": [
      "\u001b[0;31m---------------------------------------------------------------------------\u001b[0m",
      "\u001b[0;31mTypeError\u001b[0m                                 Traceback (most recent call last)",
      "\u001b[0;32m<ipython-input-17-f6f02eeefd01>\u001b[0m in \u001b[0;36m<module>\u001b[0;34m\u001b[0m\n\u001b[0;32m----> 1\u001b[0;31m \u001b[0mdf\u001b[0m\u001b[0;34m[\u001b[0m\u001b[0;34m'time_sec'\u001b[0m\u001b[0;34m]\u001b[0m\u001b[0;34m=\u001b[0m \u001b[0;34m[\u001b[0m\u001b[0;34m(\u001b[0m\u001b[0mint\u001b[0m\u001b[0;34m(\u001b[0m\u001b[0ma\u001b[0m\u001b[0;34m)\u001b[0m\u001b[0;34m*\u001b[0m\u001b[0;36m60\u001b[0m\u001b[0;34m)\u001b[0m\u001b[0;34m+\u001b[0m\u001b[0mint\u001b[0m\u001b[0;34m(\u001b[0m\u001b[0mb\u001b[0m\u001b[0;34m)\u001b[0m\u001b[0;34m+\u001b[0m\u001b[0;34m(\u001b[0m\u001b[0mint\u001b[0m\u001b[0;34m(\u001b[0m\u001b[0mc\u001b[0m\u001b[0;34m)\u001b[0m\u001b[0;34m/\u001b[0m\u001b[0;36m1000\u001b[0m\u001b[0;34m)\u001b[0m \u001b[0;32mfor\u001b[0m \u001b[0ma\u001b[0m\u001b[0;34m,\u001b[0m\u001b[0mb\u001b[0m\u001b[0;34m,\u001b[0m\u001b[0mc\u001b[0m \u001b[0;32min\u001b[0m \u001b[0mre\u001b[0m\u001b[0;34m.\u001b[0m\u001b[0msplit\u001b[0m\u001b[0;34m(\u001b[0m\u001b[0mpattern\u001b[0m\u001b[0;34m=\u001b[0m\u001b[0;34mr'[:\\.]'\u001b[0m\u001b[0;34m,\u001b[0m\u001b[0mstring\u001b[0m\u001b[0;34m=\u001b[0m\u001b[0mbig_data\u001b[0m\u001b[0;34m[\u001b[0m\u001b[0;34m'Mark'\u001b[0m\u001b[0;34m]\u001b[0m\u001b[0;34m)\u001b[0m\u001b[0;34m]\u001b[0m\u001b[0;34m\u001b[0m\u001b[0;34m\u001b[0m\u001b[0m\n\u001b[0m",
      "\u001b[0;32m/opt/anaconda3/lib/python3.8/re.py\u001b[0m in \u001b[0;36msplit\u001b[0;34m(pattern, string, maxsplit, flags)\u001b[0m\n\u001b[1;32m    229\u001b[0m     \u001b[0;32mand\u001b[0m \u001b[0mthe\u001b[0m \u001b[0mremainder\u001b[0m \u001b[0mof\u001b[0m \u001b[0mthe\u001b[0m \u001b[0mstring\u001b[0m \u001b[0;32mis\u001b[0m \u001b[0mreturned\u001b[0m \u001b[0;32mas\u001b[0m \u001b[0mthe\u001b[0m \u001b[0mfinal\u001b[0m \u001b[0melement\u001b[0m\u001b[0;34m\u001b[0m\u001b[0;34m\u001b[0m\u001b[0m\n\u001b[1;32m    230\u001b[0m     of the list.\"\"\"\n\u001b[0;32m--> 231\u001b[0;31m     \u001b[0;32mreturn\u001b[0m \u001b[0m_compile\u001b[0m\u001b[0;34m(\u001b[0m\u001b[0mpattern\u001b[0m\u001b[0;34m,\u001b[0m \u001b[0mflags\u001b[0m\u001b[0;34m)\u001b[0m\u001b[0;34m.\u001b[0m\u001b[0msplit\u001b[0m\u001b[0;34m(\u001b[0m\u001b[0mstring\u001b[0m\u001b[0;34m,\u001b[0m \u001b[0mmaxsplit\u001b[0m\u001b[0;34m)\u001b[0m\u001b[0;34m\u001b[0m\u001b[0;34m\u001b[0m\u001b[0m\n\u001b[0m\u001b[1;32m    232\u001b[0m \u001b[0;34m\u001b[0m\u001b[0m\n\u001b[1;32m    233\u001b[0m \u001b[0;32mdef\u001b[0m \u001b[0mfindall\u001b[0m\u001b[0;34m(\u001b[0m\u001b[0mpattern\u001b[0m\u001b[0;34m,\u001b[0m \u001b[0mstring\u001b[0m\u001b[0;34m,\u001b[0m \u001b[0mflags\u001b[0m\u001b[0;34m=\u001b[0m\u001b[0;36m0\u001b[0m\u001b[0;34m)\u001b[0m\u001b[0;34m:\u001b[0m\u001b[0;34m\u001b[0m\u001b[0;34m\u001b[0m\u001b[0m\n",
      "\u001b[0;31mTypeError\u001b[0m: expected string or bytes-like object"
     ]
    }
   ],
   "source": [
    "df['time_sec']= [(int(a)*60)+int(b)+(int(c)/1000) for a,b,c in re.split(pattern=r'[:\\.]',string=big_data['Mark'])]"
   ]
  },
  {
   "cell_type": "markdown",
   "metadata": {},
   "source": [
    "for a,b,c in big_data['Mark'].str.split(r'[:.]'): print(c) this is the way to use pandas split function https://kanoki.org/2019/11/12/how-to-use-regex-in-pandas/ the above link shows pandas * regular expression"
   ]
  },
  {
   "cell_type": "code",
   "execution_count": 18,
   "metadata": {},
   "outputs": [
    {
     "ename": "ValueError",
     "evalue": "invalid literal for int() with base 10: '2h'",
     "output_type": "error",
     "traceback": [
      "\u001b[0;31m---------------------------------------------------------------------------\u001b[0m",
      "\u001b[0;31mValueError\u001b[0m                                Traceback (most recent call last)",
      "\u001b[0;32m<ipython-input-18-2d18ec7e047c>\u001b[0m in \u001b[0;36m<module>\u001b[0;34m\u001b[0m\n\u001b[0;32m----> 1\u001b[0;31m \u001b[0mdf\u001b[0m\u001b[0;34m[\u001b[0m\u001b[0;34m'time_sec'\u001b[0m\u001b[0;34m]\u001b[0m\u001b[0;34m=\u001b[0m \u001b[0;34m[\u001b[0m\u001b[0;34m(\u001b[0m\u001b[0mint\u001b[0m\u001b[0;34m(\u001b[0m\u001b[0ma\u001b[0m\u001b[0;34m)\u001b[0m\u001b[0;34m*\u001b[0m\u001b[0;36m60\u001b[0m\u001b[0;34m)\u001b[0m\u001b[0;34m+\u001b[0m\u001b[0mint\u001b[0m\u001b[0;34m(\u001b[0m\u001b[0mb\u001b[0m\u001b[0;34m)\u001b[0m\u001b[0;34m+\u001b[0m\u001b[0;34m(\u001b[0m\u001b[0mint\u001b[0m\u001b[0;34m(\u001b[0m\u001b[0mc\u001b[0m\u001b[0;34m)\u001b[0m\u001b[0;34m/\u001b[0m\u001b[0;36m1000\u001b[0m\u001b[0;34m)\u001b[0m \u001b[0;32mfor\u001b[0m \u001b[0ma\u001b[0m\u001b[0;34m,\u001b[0m\u001b[0mb\u001b[0m\u001b[0;34m,\u001b[0m\u001b[0mc\u001b[0m \u001b[0;32min\u001b[0m \u001b[0mbig_data\u001b[0m\u001b[0;34m[\u001b[0m\u001b[0;34m'Mark'\u001b[0m\u001b[0;34m]\u001b[0m\u001b[0;34m.\u001b[0m\u001b[0mstr\u001b[0m\u001b[0;34m.\u001b[0m\u001b[0msplit\u001b[0m\u001b[0;34m(\u001b[0m\u001b[0;34mr'[:\\.]'\u001b[0m\u001b[0;34m)\u001b[0m\u001b[0;34m]\u001b[0m\u001b[0;34m\u001b[0m\u001b[0;34m\u001b[0m\u001b[0m\n\u001b[0m",
      "\u001b[0;32m<ipython-input-18-2d18ec7e047c>\u001b[0m in \u001b[0;36m<listcomp>\u001b[0;34m(.0)\u001b[0m\n\u001b[0;32m----> 1\u001b[0;31m \u001b[0mdf\u001b[0m\u001b[0;34m[\u001b[0m\u001b[0;34m'time_sec'\u001b[0m\u001b[0;34m]\u001b[0m\u001b[0;34m=\u001b[0m \u001b[0;34m[\u001b[0m\u001b[0;34m(\u001b[0m\u001b[0mint\u001b[0m\u001b[0;34m(\u001b[0m\u001b[0ma\u001b[0m\u001b[0;34m)\u001b[0m\u001b[0;34m*\u001b[0m\u001b[0;36m60\u001b[0m\u001b[0;34m)\u001b[0m\u001b[0;34m+\u001b[0m\u001b[0mint\u001b[0m\u001b[0;34m(\u001b[0m\u001b[0mb\u001b[0m\u001b[0;34m)\u001b[0m\u001b[0;34m+\u001b[0m\u001b[0;34m(\u001b[0m\u001b[0mint\u001b[0m\u001b[0;34m(\u001b[0m\u001b[0mc\u001b[0m\u001b[0;34m)\u001b[0m\u001b[0;34m/\u001b[0m\u001b[0;36m1000\u001b[0m\u001b[0;34m)\u001b[0m \u001b[0;32mfor\u001b[0m \u001b[0ma\u001b[0m\u001b[0;34m,\u001b[0m\u001b[0mb\u001b[0m\u001b[0;34m,\u001b[0m\u001b[0mc\u001b[0m \u001b[0;32min\u001b[0m \u001b[0mbig_data\u001b[0m\u001b[0;34m[\u001b[0m\u001b[0;34m'Mark'\u001b[0m\u001b[0;34m]\u001b[0m\u001b[0;34m.\u001b[0m\u001b[0mstr\u001b[0m\u001b[0;34m.\u001b[0m\u001b[0msplit\u001b[0m\u001b[0;34m(\u001b[0m\u001b[0;34mr'[:\\.]'\u001b[0m\u001b[0;34m)\u001b[0m\u001b[0;34m]\u001b[0m\u001b[0;34m\u001b[0m\u001b[0;34m\u001b[0m\u001b[0m\n\u001b[0m",
      "\u001b[0;31mValueError\u001b[0m: invalid literal for int() with base 10: '2h'"
     ]
    }
   ],
   "source": [
    "df['time_sec']= [(int(a)*60)+int(b)+(int(c)/1000) for a,b,c in big_data['Mark'].str.split(r'[:\\.]')]"
   ]
  },
  {
   "cell_type": "markdown",
   "metadata": {},
   "source": [
    "The issue above was that in the time string there are some miliseconds that end with h"
   ]
  },
  {
   "cell_type": "code",
   "execution_count": 19,
   "metadata": {},
   "outputs": [
    {
     "data": {
      "text/html": [
       "<div>\n",
       "<style scoped>\n",
       "    .dataframe tbody tr th:only-of-type {\n",
       "        vertical-align: middle;\n",
       "    }\n",
       "\n",
       "    .dataframe tbody tr th {\n",
       "        vertical-align: top;\n",
       "    }\n",
       "\n",
       "    .dataframe thead th {\n",
       "        text-align: right;\n",
       "    }\n",
       "</style>\n",
       "<table border=\"1\" class=\"dataframe\">\n",
       "  <thead>\n",
       "    <tr style=\"text-align: right;\">\n",
       "      <th></th>\n",
       "      <th>Rank</th>\n",
       "      <th>Mark</th>\n",
       "      <th>Competitor</th>\n",
       "      <th>DOB</th>\n",
       "      <th>Nat</th>\n",
       "      <th>Pos</th>\n",
       "      <th>Unnamed: 6</th>\n",
       "      <th>Venue</th>\n",
       "      <th>Date</th>\n",
       "      <th>Results Score</th>\n",
       "    </tr>\n",
       "  </thead>\n",
       "  <tbody>\n",
       "  </tbody>\n",
       "</table>\n",
       "</div>"
      ],
      "text/plain": [
       "Empty DataFrame\n",
       "Columns: [Rank, Mark, Competitor, DOB, Nat, Pos, Unnamed: 6, Venue, Date, Results Score]\n",
       "Index: []"
      ]
     },
     "execution_count": 19,
     "metadata": {},
     "output_type": "execute_result"
    }
   ],
   "source": [
    "big_data[big_data['Mark']==':0h']\n",
    "#this commmand did not work "
   ]
  },
  {
   "cell_type": "code",
   "execution_count": 20,
   "metadata": {},
   "outputs": [
    {
     "data": {
      "text/html": [
       "<div>\n",
       "<style scoped>\n",
       "    .dataframe tbody tr th:only-of-type {\n",
       "        vertical-align: middle;\n",
       "    }\n",
       "\n",
       "    .dataframe tbody tr th {\n",
       "        vertical-align: top;\n",
       "    }\n",
       "\n",
       "    .dataframe thead th {\n",
       "        text-align: right;\n",
       "    }\n",
       "</style>\n",
       "<table border=\"1\" class=\"dataframe\">\n",
       "  <thead>\n",
       "    <tr style=\"text-align: right;\">\n",
       "      <th></th>\n",
       "      <th>Rank</th>\n",
       "      <th>Mark</th>\n",
       "      <th>Competitor</th>\n",
       "      <th>DOB</th>\n",
       "      <th>Nat</th>\n",
       "      <th>Pos</th>\n",
       "      <th>Unnamed: 6</th>\n",
       "      <th>Venue</th>\n",
       "      <th>Date</th>\n",
       "      <th>Results Score</th>\n",
       "    </tr>\n",
       "  </thead>\n",
       "  <tbody>\n",
       "    <tr>\n",
       "      <th>223</th>\n",
       "      <td>124</td>\n",
       "      <td>3:32.2h</td>\n",
       "      <td>Filbert BAYI</td>\n",
       "      <td>23 JUN 1953</td>\n",
       "      <td>TAN</td>\n",
       "      <td>1</td>\n",
       "      <td>NaN</td>\n",
       "      <td>Christchurch (NZL)</td>\n",
       "      <td>02 FEB 1974</td>\n",
       "      <td>1214</td>\n",
       "    </tr>\n",
       "    <tr>\n",
       "      <th>230</th>\n",
       "      <td>131</td>\n",
       "      <td>3:32.4h</td>\n",
       "      <td>John WALKER</td>\n",
       "      <td>12 JAN 1952</td>\n",
       "      <td>NZL</td>\n",
       "      <td>1</td>\n",
       "      <td>NaN</td>\n",
       "      <td>Oslo (NOR)</td>\n",
       "      <td>30 JUL 1975</td>\n",
       "      <td>1211</td>\n",
       "    </tr>\n",
       "    <tr>\n",
       "      <th>260</th>\n",
       "      <td>161</td>\n",
       "      <td>3:33.1h</td>\n",
       "      <td>Jim RYUN</td>\n",
       "      <td>29 APR 1947</td>\n",
       "      <td>USA</td>\n",
       "      <td>1</td>\n",
       "      <td>NaN</td>\n",
       "      <td>Los Angeles, CA (USA)</td>\n",
       "      <td>08 JUL 1967</td>\n",
       "      <td>1201</td>\n",
       "    </tr>\n",
       "    <tr>\n",
       "      <th>340</th>\n",
       "      <td>241</td>\n",
       "      <td>3:34.0h</td>\n",
       "      <td>Jean WADOUX</td>\n",
       "      <td>29 JAN 1942</td>\n",
       "      <td>FRA</td>\n",
       "      <td>1</td>\n",
       "      <td>NaN</td>\n",
       "      <td>Colombes (FRA)</td>\n",
       "      <td>23 JUL 1970</td>\n",
       "      <td>1188</td>\n",
       "    </tr>\n",
       "    <tr>\n",
       "      <th>342</th>\n",
       "      <td>242</td>\n",
       "      <td>3:34.0h</td>\n",
       "      <td>Moses KIPTANUI</td>\n",
       "      <td>01 OCT 1970</td>\n",
       "      <td>KEN</td>\n",
       "      <td>1</td>\n",
       "      <td>NaN</td>\n",
       "      <td>Nairobi (KEN)</td>\n",
       "      <td>13 JUN 1992</td>\n",
       "      <td>1188</td>\n",
       "    </tr>\n",
       "    <tr>\n",
       "      <th>...</th>\n",
       "      <td>...</td>\n",
       "      <td>...</td>\n",
       "      <td>...</td>\n",
       "      <td>...</td>\n",
       "      <td>...</td>\n",
       "      <td>...</td>\n",
       "      <td>...</td>\n",
       "      <td>...</td>\n",
       "      <td>...</td>\n",
       "      <td>...</td>\n",
       "    </tr>\n",
       "    <tr>\n",
       "      <th>4363</th>\n",
       "      <td>4253</td>\n",
       "      <td>3:43.0h</td>\n",
       "      <td>Stephen KOECH</td>\n",
       "      <td>16 DEC 1976</td>\n",
       "      <td>KEN</td>\n",
       "      <td>1</td>\n",
       "      <td>NaN</td>\n",
       "      <td>Kakamega (KEN)</td>\n",
       "      <td>24 JUN 2006</td>\n",
       "      <td>1067</td>\n",
       "    </tr>\n",
       "    <tr>\n",
       "      <th>4364</th>\n",
       "      <td>4253</td>\n",
       "      <td>3:43.0h</td>\n",
       "      <td>Joseph EBUYA</td>\n",
       "      <td>20 JUN 1987</td>\n",
       "      <td>KEN</td>\n",
       "      <td>6</td>\n",
       "      <td>NaN</td>\n",
       "      <td>Kakamega (KEN)</td>\n",
       "      <td>21 APR 2007</td>\n",
       "      <td>1067</td>\n",
       "    </tr>\n",
       "    <tr>\n",
       "      <th>4365</th>\n",
       "      <td>4253</td>\n",
       "      <td>3:43.0h</td>\n",
       "      <td>Geoffrey KIPLAGAT</td>\n",
       "      <td>NaN</td>\n",
       "      <td>KEN</td>\n",
       "      <td>5h1</td>\n",
       "      <td>NaN</td>\n",
       "      <td>Nairobi (KEN)</td>\n",
       "      <td>21 MAY 2010</td>\n",
       "      <td>1067</td>\n",
       "    </tr>\n",
       "    <tr>\n",
       "      <th>4366</th>\n",
       "      <td>4253</td>\n",
       "      <td>3:43.0h</td>\n",
       "      <td>Willy KIMUTAI</td>\n",
       "      <td>1994</td>\n",
       "      <td>KEN</td>\n",
       "      <td>1f2</td>\n",
       "      <td>NaN</td>\n",
       "      <td>Nairobi (KEN)</td>\n",
       "      <td>14 APR 2012</td>\n",
       "      <td>1067</td>\n",
       "    </tr>\n",
       "    <tr>\n",
       "      <th>4367</th>\n",
       "      <td>4253</td>\n",
       "      <td>3:43.0h</td>\n",
       "      <td>Geoffrey KIPRONO</td>\n",
       "      <td>NaN</td>\n",
       "      <td>KEN</td>\n",
       "      <td>1</td>\n",
       "      <td>NaN</td>\n",
       "      <td>Nairobi (KEN)</td>\n",
       "      <td>16 MAR 2013</td>\n",
       "      <td>1067</td>\n",
       "    </tr>\n",
       "  </tbody>\n",
       "</table>\n",
       "<p>744 rows × 10 columns</p>\n",
       "</div>"
      ],
      "text/plain": [
       "      Rank     Mark         Competitor          DOB  Nat  Pos  Unnamed: 6  \\\n",
       "223    124  3:32.2h       Filbert BAYI  23 JUN 1953  TAN    1         NaN   \n",
       "230    131  3:32.4h        John WALKER  12 JAN 1952  NZL    1         NaN   \n",
       "260    161  3:33.1h           Jim RYUN  29 APR 1947  USA    1         NaN   \n",
       "340    241  3:34.0h        Jean WADOUX  29 JAN 1942  FRA    1         NaN   \n",
       "342    242  3:34.0h     Moses KIPTANUI  01 OCT 1970  KEN    1         NaN   \n",
       "...    ...      ...                ...          ...  ...  ...         ...   \n",
       "4363  4253  3:43.0h      Stephen KOECH  16 DEC 1976  KEN    1         NaN   \n",
       "4364  4253  3:43.0h       Joseph EBUYA  20 JUN 1987  KEN    6         NaN   \n",
       "4365  4253  3:43.0h  Geoffrey KIPLAGAT          NaN  KEN  5h1         NaN   \n",
       "4366  4253  3:43.0h      Willy KIMUTAI         1994  KEN  1f2         NaN   \n",
       "4367  4253  3:43.0h   Geoffrey KIPRONO          NaN  KEN    1         NaN   \n",
       "\n",
       "                      Venue         Date  Results Score  \n",
       "223      Christchurch (NZL)  02 FEB 1974           1214  \n",
       "230              Oslo (NOR)  30 JUL 1975           1211  \n",
       "260   Los Angeles, CA (USA)  08 JUL 1967           1201  \n",
       "340          Colombes (FRA)  23 JUL 1970           1188  \n",
       "342           Nairobi (KEN)  13 JUN 1992           1188  \n",
       "...                     ...          ...            ...  \n",
       "4363         Kakamega (KEN)  24 JUN 2006           1067  \n",
       "4364         Kakamega (KEN)  21 APR 2007           1067  \n",
       "4365          Nairobi (KEN)  21 MAY 2010           1067  \n",
       "4366          Nairobi (KEN)  14 APR 2012           1067  \n",
       "4367          Nairobi (KEN)  16 MAR 2013           1067  \n",
       "\n",
       "[744 rows x 10 columns]"
      ]
     },
     "execution_count": 20,
     "metadata": {},
     "output_type": "execute_result"
    }
   ],
   "source": [
    "#so here we will use the regex method \n",
    "pattern = '\\d:\\d\\d.\\d\\D'\n",
    "big_data[big_data['Mark'].str.match(pattern)==True]"
   ]
  },
  {
   "cell_type": "code",
   "execution_count": 21,
   "metadata": {},
   "outputs": [],
   "source": [
    "#now all we need to do is convert that h to 0 \n",
    "big_data['t_raw']= big_data['Mark'].str.replace('h','0',regex=True)"
   ]
  },
  {
   "cell_type": "markdown",
   "metadata": {},
   "source": [
    "https://pandas.pydata.org/docs/reference/api/pandas.Series.str.replace.html we used the above function to convert the millisecond values we assume that h=0"
   ]
  },
  {
   "cell_type": "code",
   "execution_count": 22,
   "metadata": {},
   "outputs": [
    {
     "data": {
      "text/plain": [
       "0       3:26.00\n",
       "1       3:26.34\n",
       "2       3:26.69\n",
       "3       3:27.37\n",
       "4       3:27.64\n",
       "         ...   \n",
       "4368    3:43.00\n",
       "4369    3:43.00\n",
       "4370    3:43.00\n",
       "4371    3:43.00\n",
       "4372    3:43.00\n",
       "Name: t_raw, Length: 4373, dtype: object"
      ]
     },
     "execution_count": 22,
     "metadata": {},
     "output_type": "execute_result"
    }
   ],
   "source": [
    "#now we have successfully got all proper time values \n",
    "big_data['t_raw']"
   ]
  },
  {
   "cell_type": "code",
   "execution_count": 23,
   "metadata": {},
   "outputs": [],
   "source": [
    "big_data['time_sec']= [int(a)*60+int(b)+int(c)/1000 for a,b,c in big_data['t_raw'].str.split(r'[:\\.]')]"
   ]
  },
  {
   "cell_type": "code",
   "execution_count": 24,
   "metadata": {},
   "outputs": [
    {
     "data": {
      "text/html": [
       "<div>\n",
       "<style scoped>\n",
       "    .dataframe tbody tr th:only-of-type {\n",
       "        vertical-align: middle;\n",
       "    }\n",
       "\n",
       "    .dataframe tbody tr th {\n",
       "        vertical-align: top;\n",
       "    }\n",
       "\n",
       "    .dataframe thead th {\n",
       "        text-align: right;\n",
       "    }\n",
       "</style>\n",
       "<table border=\"1\" class=\"dataframe\">\n",
       "  <thead>\n",
       "    <tr style=\"text-align: right;\">\n",
       "      <th></th>\n",
       "      <th>Rank</th>\n",
       "      <th>Mark</th>\n",
       "      <th>Competitor</th>\n",
       "      <th>DOB</th>\n",
       "      <th>Nat</th>\n",
       "      <th>Pos</th>\n",
       "      <th>Unnamed: 6</th>\n",
       "      <th>Venue</th>\n",
       "      <th>Date</th>\n",
       "      <th>Results Score</th>\n",
       "      <th>t_raw</th>\n",
       "      <th>time_sec</th>\n",
       "    </tr>\n",
       "  </thead>\n",
       "  <tbody>\n",
       "    <tr>\n",
       "      <th>0</th>\n",
       "      <td>1</td>\n",
       "      <td>3:26.00</td>\n",
       "      <td>Hicham EL GUERROUJ</td>\n",
       "      <td>14 SEP 1974</td>\n",
       "      <td>MAR</td>\n",
       "      <td>1</td>\n",
       "      <td>NaN</td>\n",
       "      <td>Stadio Olimpico, Roma (ITA)</td>\n",
       "      <td>14 JUL 1998</td>\n",
       "      <td>1302</td>\n",
       "      <td>3:26.00</td>\n",
       "      <td>206.000</td>\n",
       "    </tr>\n",
       "    <tr>\n",
       "      <th>1</th>\n",
       "      <td>2</td>\n",
       "      <td>3:26.34</td>\n",
       "      <td>Bernard LAGAT</td>\n",
       "      <td>12 DEC 1974</td>\n",
       "      <td>KEN</td>\n",
       "      <td>2</td>\n",
       "      <td>NaN</td>\n",
       "      <td>Bruxelles (BEL)</td>\n",
       "      <td>24 AUG 2001</td>\n",
       "      <td>1297</td>\n",
       "      <td>3:26.34</td>\n",
       "      <td>206.034</td>\n",
       "    </tr>\n",
       "    <tr>\n",
       "      <th>2</th>\n",
       "      <td>3</td>\n",
       "      <td>3:26.69</td>\n",
       "      <td>Asbel KIPROP</td>\n",
       "      <td>30 JUN 1989</td>\n",
       "      <td>KEN</td>\n",
       "      <td>1</td>\n",
       "      <td>NaN</td>\n",
       "      <td>Stade Louis II, Monaco (MON)</td>\n",
       "      <td>17 JUL 2015</td>\n",
       "      <td>1292</td>\n",
       "      <td>3:26.69</td>\n",
       "      <td>206.069</td>\n",
       "    </tr>\n",
       "    <tr>\n",
       "      <th>3</th>\n",
       "      <td>4</td>\n",
       "      <td>3:27.37</td>\n",
       "      <td>Noureddine MORCELI</td>\n",
       "      <td>28 FEB 1970</td>\n",
       "      <td>ALG</td>\n",
       "      <td>1</td>\n",
       "      <td>NaN</td>\n",
       "      <td>Nice (FRA)</td>\n",
       "      <td>12 JUL 1995</td>\n",
       "      <td>1282</td>\n",
       "      <td>3:27.37</td>\n",
       "      <td>207.037</td>\n",
       "    </tr>\n",
       "    <tr>\n",
       "      <th>4</th>\n",
       "      <td>5</td>\n",
       "      <td>3:27.64</td>\n",
       "      <td>Silas KIPLAGAT</td>\n",
       "      <td>20 AUG 1989</td>\n",
       "      <td>KEN</td>\n",
       "      <td>1</td>\n",
       "      <td>NaN</td>\n",
       "      <td>Stade Louis II, Monaco (MON)</td>\n",
       "      <td>18 JUL 2014</td>\n",
       "      <td>1279</td>\n",
       "      <td>3:27.64</td>\n",
       "      <td>207.064</td>\n",
       "    </tr>\n",
       "  </tbody>\n",
       "</table>\n",
       "</div>"
      ],
      "text/plain": [
       "   Rank     Mark          Competitor          DOB  Nat Pos  Unnamed: 6  \\\n",
       "0     1  3:26.00  Hicham EL GUERROUJ  14 SEP 1974  MAR   1         NaN   \n",
       "1     2  3:26.34       Bernard LAGAT  12 DEC 1974  KEN   2         NaN   \n",
       "2     3  3:26.69        Asbel KIPROP  30 JUN 1989  KEN   1         NaN   \n",
       "3     4  3:27.37  Noureddine MORCELI  28 FEB 1970  ALG   1         NaN   \n",
       "4     5  3:27.64      Silas KIPLAGAT  20 AUG 1989  KEN   1         NaN   \n",
       "\n",
       "                          Venue         Date  Results Score    t_raw  time_sec  \n",
       "0   Stadio Olimpico, Roma (ITA)  14 JUL 1998           1302  3:26.00   206.000  \n",
       "1               Bruxelles (BEL)  24 AUG 2001           1297  3:26.34   206.034  \n",
       "2  Stade Louis II, Monaco (MON)  17 JUL 2015           1292  3:26.69   206.069  \n",
       "3                    Nice (FRA)  12 JUL 1995           1282  3:27.37   207.037  \n",
       "4  Stade Louis II, Monaco (MON)  18 JUL 2014           1279  3:27.64   207.064  "
      ]
     },
     "execution_count": 24,
     "metadata": {},
     "output_type": "execute_result"
    }
   ],
   "source": [
    "#Final 1500m data set \n",
    "big_data.head()"
   ]
  },
  {
   "cell_type": "code",
   "execution_count": 25,
   "metadata": {},
   "outputs": [],
   "source": [
    "#we can also try another ay to find total seconds using \n",
    "from datetime import timedelta"
   ]
  },
  {
   "cell_type": "code",
   "execution_count": 26,
   "metadata": {},
   "outputs": [],
   "source": [
    "def second_calculator(x):\n",
    "    mins,secs,millis= map(int, re.split(pattern=r'[:\\.]',string=x))\n",
    "    td = timedelta(minutes=mins,seconds=secs,milliseconds=millis)\n",
    "    return td.total_seconds()"
   ]
  },
  {
   "cell_type": "markdown",
   "metadata": {},
   "source": [
    "we get the above function idea from here - https://stackoverflow.com/questions/50308629/python-pandas-column-convert-minutes-to-second"
   ]
  },
  {
   "cell_type": "code",
   "execution_count": 27,
   "metadata": {},
   "outputs": [],
   "source": [
    "big_data['t_sec']= big_data['t_raw'].apply(second_calculator)"
   ]
  },
  {
   "cell_type": "code",
   "execution_count": 28,
   "metadata": {},
   "outputs": [
    {
     "data": {
      "text/html": [
       "<div>\n",
       "<style scoped>\n",
       "    .dataframe tbody tr th:only-of-type {\n",
       "        vertical-align: middle;\n",
       "    }\n",
       "\n",
       "    .dataframe tbody tr th {\n",
       "        vertical-align: top;\n",
       "    }\n",
       "\n",
       "    .dataframe thead th {\n",
       "        text-align: right;\n",
       "    }\n",
       "</style>\n",
       "<table border=\"1\" class=\"dataframe\">\n",
       "  <thead>\n",
       "    <tr style=\"text-align: right;\">\n",
       "      <th></th>\n",
       "      <th>Rank</th>\n",
       "      <th>Mark</th>\n",
       "      <th>Competitor</th>\n",
       "      <th>DOB</th>\n",
       "      <th>Nat</th>\n",
       "      <th>Pos</th>\n",
       "      <th>Unnamed: 6</th>\n",
       "      <th>Venue</th>\n",
       "      <th>Date</th>\n",
       "      <th>Results Score</th>\n",
       "      <th>t_raw</th>\n",
       "      <th>time_sec</th>\n",
       "      <th>t_sec</th>\n",
       "    </tr>\n",
       "  </thead>\n",
       "  <tbody>\n",
       "    <tr>\n",
       "      <th>0</th>\n",
       "      <td>1</td>\n",
       "      <td>3:26.00</td>\n",
       "      <td>Hicham EL GUERROUJ</td>\n",
       "      <td>14 SEP 1974</td>\n",
       "      <td>MAR</td>\n",
       "      <td>1</td>\n",
       "      <td>NaN</td>\n",
       "      <td>Stadio Olimpico, Roma (ITA)</td>\n",
       "      <td>14 JUL 1998</td>\n",
       "      <td>1302</td>\n",
       "      <td>3:26.00</td>\n",
       "      <td>206.000</td>\n",
       "      <td>206.000</td>\n",
       "    </tr>\n",
       "    <tr>\n",
       "      <th>1</th>\n",
       "      <td>2</td>\n",
       "      <td>3:26.34</td>\n",
       "      <td>Bernard LAGAT</td>\n",
       "      <td>12 DEC 1974</td>\n",
       "      <td>KEN</td>\n",
       "      <td>2</td>\n",
       "      <td>NaN</td>\n",
       "      <td>Bruxelles (BEL)</td>\n",
       "      <td>24 AUG 2001</td>\n",
       "      <td>1297</td>\n",
       "      <td>3:26.34</td>\n",
       "      <td>206.034</td>\n",
       "      <td>206.034</td>\n",
       "    </tr>\n",
       "    <tr>\n",
       "      <th>2</th>\n",
       "      <td>3</td>\n",
       "      <td>3:26.69</td>\n",
       "      <td>Asbel KIPROP</td>\n",
       "      <td>30 JUN 1989</td>\n",
       "      <td>KEN</td>\n",
       "      <td>1</td>\n",
       "      <td>NaN</td>\n",
       "      <td>Stade Louis II, Monaco (MON)</td>\n",
       "      <td>17 JUL 2015</td>\n",
       "      <td>1292</td>\n",
       "      <td>3:26.69</td>\n",
       "      <td>206.069</td>\n",
       "      <td>206.069</td>\n",
       "    </tr>\n",
       "    <tr>\n",
       "      <th>3</th>\n",
       "      <td>4</td>\n",
       "      <td>3:27.37</td>\n",
       "      <td>Noureddine MORCELI</td>\n",
       "      <td>28 FEB 1970</td>\n",
       "      <td>ALG</td>\n",
       "      <td>1</td>\n",
       "      <td>NaN</td>\n",
       "      <td>Nice (FRA)</td>\n",
       "      <td>12 JUL 1995</td>\n",
       "      <td>1282</td>\n",
       "      <td>3:27.37</td>\n",
       "      <td>207.037</td>\n",
       "      <td>207.037</td>\n",
       "    </tr>\n",
       "    <tr>\n",
       "      <th>4</th>\n",
       "      <td>5</td>\n",
       "      <td>3:27.64</td>\n",
       "      <td>Silas KIPLAGAT</td>\n",
       "      <td>20 AUG 1989</td>\n",
       "      <td>KEN</td>\n",
       "      <td>1</td>\n",
       "      <td>NaN</td>\n",
       "      <td>Stade Louis II, Monaco (MON)</td>\n",
       "      <td>18 JUL 2014</td>\n",
       "      <td>1279</td>\n",
       "      <td>3:27.64</td>\n",
       "      <td>207.064</td>\n",
       "      <td>207.064</td>\n",
       "    </tr>\n",
       "  </tbody>\n",
       "</table>\n",
       "</div>"
      ],
      "text/plain": [
       "   Rank     Mark          Competitor          DOB  Nat Pos  Unnamed: 6  \\\n",
       "0     1  3:26.00  Hicham EL GUERROUJ  14 SEP 1974  MAR   1         NaN   \n",
       "1     2  3:26.34       Bernard LAGAT  12 DEC 1974  KEN   2         NaN   \n",
       "2     3  3:26.69        Asbel KIPROP  30 JUN 1989  KEN   1         NaN   \n",
       "3     4  3:27.37  Noureddine MORCELI  28 FEB 1970  ALG   1         NaN   \n",
       "4     5  3:27.64      Silas KIPLAGAT  20 AUG 1989  KEN   1         NaN   \n",
       "\n",
       "                          Venue         Date  Results Score    t_raw  \\\n",
       "0   Stadio Olimpico, Roma (ITA)  14 JUL 1998           1302  3:26.00   \n",
       "1               Bruxelles (BEL)  24 AUG 2001           1297  3:26.34   \n",
       "2  Stade Louis II, Monaco (MON)  17 JUL 2015           1292  3:26.69   \n",
       "3                    Nice (FRA)  12 JUL 1995           1282  3:27.37   \n",
       "4  Stade Louis II, Monaco (MON)  18 JUL 2014           1279  3:27.64   \n",
       "\n",
       "   time_sec    t_sec  \n",
       "0   206.000  206.000  \n",
       "1   206.034  206.034  \n",
       "2   206.069  206.069  \n",
       "3   207.037  207.037  \n",
       "4   207.064  207.064  "
      ]
     },
     "execution_count": 28,
     "metadata": {},
     "output_type": "execute_result"
    }
   ],
   "source": [
    "big_data.head()"
   ]
  },
  {
   "cell_type": "code",
   "execution_count": 29,
   "metadata": {},
   "outputs": [],
   "source": [
    "#now lets get for 2000m \n",
    "base_url2='https://www.worldathletics.org/records/all-time-toplists/middle-long/2000-metres/outdoor/men/senior?regionType=world&page={}&bestResultsOnly=true&firstDay=1900-01-01&lastDay=2021-05-10'\n",
    "\n",
    "#scrape through each page.There are 8 pages \n",
    "\n",
    "main_list2 = []\n",
    "for n in range(9):\n",
    "    d2 = pd.read_html(base_url2.format(n))\n",
    "    df2 = d2[0]\n",
    "    main_list2.append(df2)\n",
    "    \n",
    "big_data2 = pd.concat(main_list2)\n",
    "\n",
    "#reset the index \n",
    "big_data2.reset_index(drop=True,inplace=True)\n",
    "\n",
    "#convert the h in millis to 0 \n",
    "big_data2['t_raw']= big_data2['Mark'].str.replace('h','0',regex=True)\n",
    "\n",
    "#calculate total seconds \n",
    "big_data2['t_sec']= big_data2['t_raw'].apply(second_calculator)"
   ]
  },
  {
   "cell_type": "code",
   "execution_count": 30,
   "metadata": {},
   "outputs": [],
   "source": [
    "#next we go for 3000m \n",
    "base_url3= 'https://www.worldathletics.org/records/all-time-toplists/middle-long/3000-metres/outdoor/men/senior?regionType=world&page={}&bestResultsOnly=true&firstDay=1900-01-01&lastDay=2021-05-10'\n",
    "\n",
    "#scrape through each page.There are 17 pages \n",
    "\n",
    "main_list3 = []\n",
    "for n in range(18):\n",
    "    d3 = pd.read_html(base_url3.format(n))\n",
    "    df3 = d3[0]\n",
    "    main_list3.append(df3)\n",
    "    \n",
    "big_data3 = pd.concat(main_list3)\n",
    "\n",
    "#reset the index \n",
    "big_data3.reset_index(drop=True,inplace=True)\n",
    "\n",
    "#convert the h in millis to 0 \n",
    "big_data3['t_raw']= big_data3['Mark'].str.replace('h','0',regex=True)\n",
    "\n",
    "#covert string to seconds \n",
    "big_data3['t_sec']= big_data3['t_raw'].apply(second_calculator)"
   ]
  },
  {
   "cell_type": "code",
   "execution_count": 31,
   "metadata": {},
   "outputs": [],
   "source": [
    "#final we go for 5000m \n",
    "base_url5= 'https://www.worldathletics.org/records/all-time-toplists/middle-long/5000-metres/outdoor/men/senior?regionType=world&page={}&bestResultsOnly=true&firstDay=1900-01-01&lastDay=2021-05-10'\n",
    "\n",
    "#scrape through each page.There are 50 pages \n",
    "\n",
    "main_list5 = []\n",
    "for n in range(51):\n",
    "    d5 = pd.read_html(base_url5.format(n))\n",
    "    df5 = d5[0]\n",
    "    main_list5.append(df5)\n",
    "    \n",
    "big_data5 = pd.concat(main_list5)\n",
    "\n",
    "#reset the index \n",
    "big_data5.reset_index(drop=True,inplace=True)\n",
    "\n",
    "#convert the h in millis to 0 \n",
    "big_data5['t_raw']= big_data5['Mark'].str.replace('h','0',regex=True)\n",
    "\n",
    "#covert string to seconds \n",
    "big_data5['t_sec']= big_data5['t_raw'].apply(second_calculator)"
   ]
  },
  {
   "cell_type": "code",
   "execution_count": 34,
   "metadata": {},
   "outputs": [],
   "source": [
    "big_data.drop(['Mark','DOB','Nat','Pos','Venue','Results Score','time_sec'],axis=1,inplace=True)\n",
    "big_data.dropna(axis=1,inplace=True)"
   ]
  },
  {
   "cell_type": "code",
   "execution_count": 35,
   "metadata": {},
   "outputs": [],
   "source": [
    "big_data2.drop(['Mark','DOB','Nat','Pos','Venue','Results Score'],axis=1,inplace=True)\n",
    "big_data2.dropna(axis=1,inplace=True)"
   ]
  },
  {
   "cell_type": "code",
   "execution_count": 36,
   "metadata": {},
   "outputs": [],
   "source": [
    "big_data3.drop(['Mark','DOB','Nat','Pos','Venue','Results Score'],axis=1,inplace=True)\n",
    "big_data3.dropna(axis=1,inplace=True)"
   ]
  },
  {
   "cell_type": "code",
   "execution_count": 37,
   "metadata": {},
   "outputs": [],
   "source": [
    "big_data5.drop(['Mark','DOB','Nat','Pos','Venue','Results Score'],axis=1,inplace=True)\n",
    "big_data5.dropna(axis=1,inplace=True)"
   ]
  },
  {
   "cell_type": "code",
   "execution_count": 38,
   "metadata": {},
   "outputs": [],
   "source": [
    "#adding the disatnce for each data frame \n",
    "big_data['Distance']=1500\n",
    "big_data2['Distance']=2000\n",
    "big_data3['Distance']=3000\n",
    "big_data5['Distance']=5000"
   ]
  },
  {
   "cell_type": "code",
   "execution_count": 39,
   "metadata": {},
   "outputs": [],
   "source": [
    "#calculating speed \n",
    "big_data['Speed']= big_data['Distance']/big_data['t_sec']\n",
    "big_data2['Speed']= big_data2['Distance']/big_data2['t_sec']\n",
    "big_data3['Speed']= big_data3['Distance']/big_data3['t_sec']\n",
    "big_data5['Speed']= big_data5['Distance']/big_data5['t_sec']"
   ]
  },
  {
   "cell_type": "code",
   "execution_count": 40,
   "metadata": {},
   "outputs": [],
   "source": [
    "cs = pd.concat([big_data,big_data2,big_data3,big_data5])"
   ]
  },
  {
   "cell_type": "code",
   "execution_count": 42,
   "metadata": {},
   "outputs": [],
   "source": [
    "#reset to get correct index locations \n",
    "cs.reset_index(drop=True,inplace=True)"
   ]
  },
  {
   "cell_type": "code",
   "execution_count": 43,
   "metadata": {},
   "outputs": [],
   "source": [
    "import matplotlib.pyplot as plt\n",
    "import seaborn as sns \n",
    "%matplotlib inline"
   ]
  },
  {
   "cell_type": "code",
   "execution_count": 44,
   "metadata": {},
   "outputs": [
    {
     "data": {
      "text/plain": [
       "<AxesSubplot:xlabel='Distance', ylabel='t_sec'>"
      ]
     },
     "execution_count": 44,
     "metadata": {},
     "output_type": "execute_result"
    },
    {
     "data": {
      "image/png": "[encoded data removed]",
      "text/plain": [
       "<Figure size 432x288 with 1 Axes>"
      ]
     },
     "metadata": {
      "needs_background": "light"
     },
     "output_type": "display_data"
    }
   ],
   "source": [
    "sns.barplot(x=cs['Distance'],y=cs['t_sec'],data=cs)"
   ]
  },
  {
   "cell_type": "code",
   "execution_count": 45,
   "metadata": {},
   "outputs": [],
   "source": [
    "cs['t_sec']= cs['t_sec'].astype(int)"
   ]
  },
  {
   "cell_type": "code",
   "execution_count": 46,
   "metadata": {},
   "outputs": [
    {
     "data": {
      "text/plain": [
       "<AxesSubplot:xlabel='t_sec', ylabel='Distance'>"
      ]
     },
     "execution_count": 46,
     "metadata": {},
     "output_type": "execute_result"
    },
    {
     "data": {
      "image/png": "[encoded data removed]",
      "text/plain": [
       "<Figure size 432x288 with 1 Axes>"
      ]
     },
     "metadata": {
      "needs_background": "light"
     },
     "output_type": "display_data"
    }
   ],
   "source": [
    "sns.scatterplot(x=cs['t_sec'],y=cs['Distance'],data=cs)"
   ]
  },
  {
   "cell_type": "code",
   "execution_count": 47,
   "metadata": {},
   "outputs": [
    {
     "data": {
      "text/plain": [
       "<AxesSubplot:>"
      ]
     },
     "execution_count": 47,
     "metadata": {},
     "output_type": "execute_result"
    },
    {
     "data": {
      "image/png": "[encoded data removed]",
      "text/plain": [
       "<Figure size 432x288 with 2 Axes>"
      ]
     },
     "metadata": {
      "needs_background": "light"
     },
     "output_type": "display_data"
    }
   ],
   "source": [
    "sns.heatmap(cs.corr(),annot=True)"
   ]
  },
  {
   "cell_type": "code",
   "execution_count": 48,
   "metadata": {},
   "outputs": [],
   "source": [
    "X = cs['t_sec'].values.reshape(-1,1)\n",
    "y= cs['Distance']"
   ]
  },
  {
   "cell_type": "code",
   "execution_count": 49,
   "metadata": {},
   "outputs": [],
   "source": [
    "from sklearn.model_selection import train_test_split"
   ]
  },
  {
   "cell_type": "code",
   "execution_count": 50,
   "metadata": {},
   "outputs": [],
   "source": [
    "X_train, X_test, y_train, y_test = train_test_split(X, y, test_size=0.3, random_state=101)"
   ]
  },
  {
   "cell_type": "code",
   "execution_count": 51,
   "metadata": {},
   "outputs": [],
   "source": [
    "from sklearn.linear_model import LinearRegression"
   ]
  },
  {
   "cell_type": "code",
   "execution_count": 52,
   "metadata": {},
   "outputs": [],
   "source": [
    "lm = LinearRegression()"
   ]
  },
  {
   "cell_type": "code",
   "execution_count": 53,
   "metadata": {},
   "outputs": [
    {
     "data": {
      "text/plain": [
       "LinearRegression()"
      ]
     },
     "execution_count": 53,
     "metadata": {},
     "output_type": "execute_result"
    }
   ],
   "source": [
    "lm.fit(X_train,y_train)"
   ]
  },
  {
   "cell_type": "code",
   "execution_count": 54,
   "metadata": {},
   "outputs": [
    {
     "name": "stdout",
     "output_type": "stream",
     "text": [
      "228.77221869662435\n"
     ]
    }
   ],
   "source": [
    "#this is D'\n",
    "print(lm.intercept_)"
   ]
  },
  {
   "cell_type": "code",
   "execution_count": 56,
   "metadata": {},
   "outputs": [
    {
     "name": "stdout",
     "output_type": "stream",
     "text": [
      "[5.86477292]\n"
     ]
    }
   ],
   "source": [
    "# This is CS \n",
    "print(lm.coef_)"
   ]
  },
  {
   "cell_type": "code",
   "execution_count": 57,
   "metadata": {},
   "outputs": [
    {
     "data": {
      "text/plain": [
       "<matplotlib.collections.PathCollection at 0x11cfe3070>"
      ]
     },
     "execution_count": 57,
     "metadata": {},
     "output_type": "execute_result"
    },
    {
     "data": {
      "image/png": "[encoded data removed]",
      "text/plain": [
       "<Figure size 432x288 with 1 Axes>"
      ]
     },
     "metadata": {
      "needs_background": "light"
     },
     "output_type": "display_data"
    }
   ],
   "source": [
    "predictions = lm.predict(X_test)\n",
    "#shows that the model predicted distance well \n",
    "plt.scatter(y_test,predictions)"
   ]
  },
  {
   "cell_type": "code",
   "execution_count": 58,
   "metadata": {},
   "outputs": [],
   "source": [
    "from sklearn import metrics"
   ]
  },
  {
   "cell_type": "code",
   "execution_count": 70,
   "metadata": {},
   "outputs": [
    {
     "name": "stdout",
     "output_type": "stream",
     "text": [
      "MAS : 42.2643466763252\n",
      "MSE : 3626.6449623893955\n",
      "RMSE :60.221632013665946\n"
     ]
    }
   ],
   "source": [
    "print(f'MAS : {metrics.mean_absolute_error(y_test,predictions)}')\n",
    "print(f'MSE : {metrics.mean_squared_error(y_test,predictions)}')\n",
    "print(f'RMSE :{np.sqrt(metrics.mean_squared_error(y_test,predictions))}')"
   ]
  },
  {
   "cell_type": "code",
   "execution_count": 71,
   "metadata": {},
   "outputs": [],
   "source": [
    "#now for the whole data \n",
    "\n",
    "model = lm.fit(X,y)"
   ]
  },
  {
   "cell_type": "code",
   "execution_count": 72,
   "metadata": {},
   "outputs": [],
   "source": [
    "r_sq = model.score(X,y)\n",
    "intercept = model.intercept_\n",
    "slope= model.coef_"
   ]
  },
  {
   "cell_type": "code",
   "execution_count": 73,
   "metadata": {},
   "outputs": [
    {
     "name": "stdout",
     "output_type": "stream",
     "text": [
      "[5.86602876]\n"
     ]
    }
   ],
   "source": [
    "#critical speed\n",
    "print(slope)"
   ]
  },
  {
   "cell_type": "code",
   "execution_count": 74,
   "metadata": {},
   "outputs": [
    {
     "name": "stdout",
     "output_type": "stream",
     "text": [
      "228.61193112640422\n"
     ]
    }
   ],
   "source": [
    "#D' above CS\n",
    "print(intercept)"
   ]
  },
  {
   "cell_type": "code",
   "execution_count": 75,
   "metadata": {},
   "outputs": [
    {
     "name": "stdout",
     "output_type": "stream",
     "text": [
      "0.9985408658403349\n"
     ]
    }
   ],
   "source": [
    "#model score \n",
    "print(r_sq)"
   ]
  },
  {
   "cell_type": "code",
   "execution_count": 76,
   "metadata": {},
   "outputs": [],
   "source": [
    "y_pred = slope*X + intercept"
   ]
  },
  {
   "cell_type": "code",
   "execution_count": 87,
   "metadata": {},
   "outputs": [
    {
     "data": {
      "text/plain": [
       "Text(120, 4500, ' R-squared= 0.99\\n CS(m/s)= 5.86\\n Distance(m) travelled above CS(D*)= 288.62')"
      ]
     },
     "execution_count": 87,
     "metadata": {},
     "output_type": "execute_result"
    },
    {
     "data": {
      "image/png": "[encoded data removed]",
      "text/plain": [
       "<Figure size 648x648 with 1 Axes>"
      ]
     },
     "metadata": {},
     "output_type": "display_data"
    }
   ],
   "source": [
    "fig, ax = plt.subplots(figsize=(9,9))\n",
    "\n",
    "fig.set_facecolor('lightgrey')\n",
    "plt.scatter(X,y)\n",
    "plt.plot(X,y_pred,c='black')\n",
    "plt.xticks([100,200,300,400,500,600,700,800])\n",
    "plt.yticks([1000,2000,3000,4000,5000,6000])\n",
    "\n",
    "plt.legend(['line of best fit','Data(1500-5000m)'])\n",
    "\n",
    "ax.spines['right'].set_visible(False)\n",
    "ax.spines['top'].set_visible(False)\n",
    "\n",
    "plt.xlabel('Time(s)',fontsize=18)\n",
    "plt.ylabel('Distance(m)',fontsize=18)\n",
    "plt.title('Detremining Critical Speed(CS) in elite runners\\n using Linear Distance-Time model\\n D = CS*T + D*',fontweight='bold')\n",
    "\n",
    "ax.annotate(text=' R-squared= 0.99\\n CS(m/s)= 5.86\\n Distance(m) travelled above CS(D*)= 288.62',xy=(120,4500),fontname='Andale Mono',fontsize=15,color='Black')\n",
    "\n"
   ]
  },
  {
   "cell_type": "code",
   "execution_count": null,
   "metadata": {},
   "outputs": [],
   "source": []
  }
 ],
 "metadata": {
  "kernelspec": {
   "display_name": "Python 3",
   "language": "python",
   "name": "python3"
  },
  "language_info": {
   "codemirror_mode": {
    "name": "ipython",
    "version": 3
   },
   "file_extension": ".py",
   "mimetype": "text/x-python",
   "name": "python",
   "nbconvert_exporter": "python",
   "pygments_lexer": "ipython3",
   "version": "3.8.5"
  }
 },
 "nbformat": 4,
 "nbformat_minor": 4
}
